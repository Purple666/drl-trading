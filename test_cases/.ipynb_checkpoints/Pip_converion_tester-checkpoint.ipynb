{
 "cells": [
  {
   "cell_type": "code",
   "execution_count": 5,
   "metadata": {},
   "outputs": [],
   "source": [
    "from __future__ import absolute_import\n",
    "import sys\n",
    "sys.path.append(\"..\")\n",
    "import numpy as np\n",
    "np.seterr(invalid='raise')\n",
    "import pandas as pd\n",
    "import datetime\n",
    "import csv\n",
    "import os\n",
    "import uuid\n",
    "import matplotlib.pyplot as plt\n",
    "from utils.data import read_h5_fx_history, read_csv_history\n",
    "from utils.globals import EPS, DATASETS_DIR, OUTPUTS_DIR, CAPITAL_BASE_MULTIPLIER, MAX_WEIGHT, RISK"
   ]
  },
  {
   "cell_type": "code",
   "execution_count": 4,
   "metadata": {},
   "outputs": [],
   "source": [
    "#currency is the account currency\n",
    "#curent_prices is a 3d array: 1dim is list of instuments, 2dim is window, 3dim is price\n",
    "def _calculate_pip_value_in_account_currency_(currency, current_prices):\n",
    "        pip_values = []\n",
    "        if currency == account_currency.USD:\n",
    "            m = 0\n",
    "            print(instruments)\n",
    "            for instrument in instruments:\n",
    "                print(instrument)\n",
    "                current_prices_for_conversion = current_prices[m]\n",
    "                #if instrument == 'EUR/USD':\n",
    "                #    EUR_USD = current_prices[m]\n",
    "                #elif instrument == 'USD/JPY':\n",
    "                #    USD_JPY = current_prices[m]\n",
    "                #elif instrument == 'AUD/USD':\n",
    "                #    AUD_USD = current_prices[m]\n",
    "                #elif instrument == 'GBP/USD':\n",
    "                #    GBP_USD = current_prices[m]\n",
    "                \n",
    "                first_currency = instrument[0:3]\n",
    "                second_currency = instrument[3:6]\n",
    "                print(first_currency + ' ' + second_currency)\n",
    "                \n",
    "                if second_currency == 'USD':\n",
    "                    pip_value = 0.0001\n",
    "                elif \n",
    "                elif first_currency == 'USD' and second_currency != 'JPY':\n",
    "                    pip_value = 0.0001/current_prices[m]\n",
    "                elif first_currency == 'USD' and second_currency == 'JPY':\n",
    "                    pip_value = 0.01/current_prices[m]    \n",
    "                elif instrument == 'GBP/JPY':\n",
    "                    pip_value = GBP_USD * 0.01/current_prices[m] \n",
    "                elif instrument == 'EUR/JPY':\n",
    "                    pip_value = EUR_USD * 0.01/current_prices[m] \n",
    "                elif instrument == 'AUD/JPY':\n",
    "                    pip_value = AUD_USD * 0.01/current_prices[m] \n",
    "                elif instrument == 'EUR/GBP':\n",
    "                    pip_value = EUR_USD * 0.0001/current_prices[m] \n",
    "\n",
    "                pip_values.append(pip_value)\n",
    "                m += 1    \n",
    "\n",
    "        return pip_values\n",
    "    \n",
    "    \n",
    "def _calculate_pip_value_in_account_currency(self, currency, current_prices):\n",
    "        pip_values = []\n",
    "        if currency == account_currency.USD:\n",
    "            m = 0\n",
    "            print(self.instruments)\n",
    "            for instrument in self.instruments:\n",
    "                print(instrument)\n",
    "                if instrument == 'EUR/USD':\n",
    "                    EUR_USD = current_prices[m]\n",
    "                elif instrument == 'USD/JPY':\n",
    "                    USD_JPY = current_prices[m]\n",
    "                elif instrument == 'AUD/USD':\n",
    "                    AUD_USD = current_prices[m]\n",
    "                elif instrument == 'GBP/USD':\n",
    "                    GBP_USD = current_prices[m]\n",
    "                \n",
    "                first_currency = instrument[0:3]\n",
    "                second_currency = instrument[3:6]\n",
    "                print(first_currency + ' ' + second_currency)\n",
    "                \n",
    "                if second_currency == 'USD':\n",
    "                    pip_value = 0.0001\n",
    "                elif first_currency == 'USD' and second_currency != 'JPY':\n",
    "                    pip_value = 0.0001/current_prices[m]\n",
    "                elif first_currency == 'USD' and second_currency == 'JPY':\n",
    "                    pip_value = 0.01/current_prices[m]    \n",
    "                elif instrument == 'GBP/JPY':\n",
    "                    pip_value = GBP_USD * 0.01/current_prices[m] \n",
    "                elif instrument == 'EUR/JPY':\n",
    "                    pip_value = EUR_USD * 0.01/current_prices[m] \n",
    "                elif instrument == 'AUD/JPY':\n",
    "                    pip_value = AUD_USD * 0.01/current_prices[m] \n",
    "                elif instrument == 'EUR/GBP':\n",
    "                    pip_value = EUR_USD * 0.0001/current_prices[m] \n",
    "\n",
    "                pip_values.append(pip_value)\n",
    "                m += 1    \n",
    "\n",
    "        return pip_values \n"
   ]
  },
  {
   "cell_type": "code",
   "execution_count": 7,
   "metadata": {},
   "outputs": [
    {
     "name": "stdout",
     "output_type": "stream",
     "text": [
      "history has NaNs: False, has infs: False\n",
      "bid has NaNs: False, has infs: False\n",
      "ask has NaNs: False, has infs: False\n",
      "history shape {}, data {} (11, 1068, 7) [1.144505e+00 1.149680e+00 1.142875e+00 1.148540e+00 6.687000e+04\n",
      " 2.000000e+00 8.000000e+00]\n",
      "bid data shape {}, data {} (11, 1068, 7) [1.144505e+00 1.149680e+00 1.142875e+00 1.148540e+00 6.687000e+04\n",
      " 2.000000e+00 8.000000e+00]\n",
      "ask shape {}, ask data {} (11, 1068, 7) [1.144505e+00 1.149680e+00 1.142875e+00 1.148540e+00 6.687000e+04\n",
      " 2.000000e+00 8.000000e+00]\n",
      "instruments lenght {}, data {} 11 ['EUR/USD', 'USD/JPY', 'AUD/USD', 'USD/CAD', 'GBP/USD', 'NZD/USD', 'GBP/JPY', 'EUR/JPY', 'AUD/JPY', 'EUR/GBP', 'USD/CHF']\n"
     ]
    }
   ],
   "source": [
    "data, bid, ask, instruments = read_h5_fx_history(filepath=DATASETS_DIR +'fxcm_11_H4_2015_2018_test_with_dates_1000.h5', replace_zeros=True)\n",
    "print('after read instuments {}', instruments)"
   ]
  },
  {
   "cell_type": "code",
   "execution_count": null,
   "metadata": {},
   "outputs": [],
   "source": [
    "def instruments = ['EUR/USD', 'USD/JPY', 'AUD/USD', 'USD/CAD', 'GBP/USD', 'NZD/USD', 'GBP/JPY', 'EUR/JPY', 'AUD/JPY', 'EUR/GBP', 'USD/CHF']\n",
    "\n",
    "def current_prices = [['USD/GBP',[1.30035, 1.30061, 1.29652]]]"
   ]
  }
 ],
 "metadata": {
  "kernelspec": {
   "display_name": "Python 3",
   "language": "python",
   "name": "python3"
  },
  "language_info": {
   "codemirror_mode": {
    "name": "ipython",
    "version": 3
   },
   "file_extension": ".py",
   "mimetype": "text/x-python",
   "name": "python",
   "nbconvert_exporter": "python",
   "pygments_lexer": "ipython3",
   "version": "3.5.2"
  }
 },
 "nbformat": 4,
 "nbformat_minor": 4
}
