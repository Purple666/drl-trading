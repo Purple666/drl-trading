{
 "cells": [
  {
   "cell_type": "code",
   "execution_count": 3,
   "metadata": {},
   "outputs": [],
   "source": [
    "from __future__ import absolute_import\n",
    "import sys\n",
    "sys.path.append(\"..\")\n",
    "import numpy as np\n",
    "np.seterr(invalid='raise')\n",
    "import pandas as pd\n",
    "import datetime\n",
    "import csv\n",
    "import os\n",
    "import uuid\n",
    "import matplotlib.pyplot as plt\n",
    "from utils.data import read_h5_fx_history, read_csv_history\n",
    "from utils.globals import EPS, DATASETS_DIR, OUTPUTS_DIR, CAPITAL_BASE_MULTIPLIER, MAX_WEIGHT, RISK"
   ]
  },
  {
   "cell_type": "code",
   "execution_count": 20,
   "metadata": {},
   "outputs": [],
   "source": [
    "instruments = ['EUR/USD', 'USD/JPY', 'AUD/USD', 'USD/CAD', 'GBP/USD', 'NZD/USD', 'GBP/JPY', 'EUR/JPY', 'AUD/JPY', 'EUR/GBP', 'USD/CHF']\n",
    "\n",
    "current_prices = [1.10851,109.81900,0.68445,1.30728,1.30431,0.65952,143.24450,121.72950,75.17300,0.84978,0.96874 ]\n",
    "\n",
    "##for standard lot\n",
    "expected_values = [10.00, 9.10, 10.00, 7.65, 10.00, 10.00, 9.10, 9.10, 9.10, 13.05, 10.32]"
   ]
  },
  {
   "cell_type": "code",
   "execution_count": 14,
   "metadata": {},
   "outputs": [],
   "source": [
    "def _calculate_pip_value_in_account_currency(currency, current_prices):\n",
    "        \n",
    "        pip_values = []\n",
    "        \n",
    "        #dictionary to keep prices for each currency, assuming that current_prices has prices in the same order as instruments list has instument names\n",
    "        prices_for_currency = {}\n",
    "        \n",
    "        instrument_index = 0\n",
    "        for instrument in instruments:\n",
    "            prices_for_currency[instrument] = current_prices[instrument_index]\n",
    "            instrument_index += 1\n",
    "            \n",
    "            \n",
    "        #account currencu is USD\n",
    "        if currency == 'USD':\n",
    "            m = 0            \n",
    "            for instrument in instruments:                                               \n",
    "                first_currency = instrument[0:3]\n",
    "                second_currency = instrument[4:7]\n",
    "                                \n",
    "                #counter currency same as account currency\n",
    "                if second_currency == 'USD':\n",
    "                    pip_value = 0.0001\n",
    "                #base currency same as account currency    \n",
    "                elif first_currency == 'USD':\n",
    "                    #counter currency is not JPY\n",
    "                    if second_currency != 'JPY':\n",
    "                        pip_value = 0.0001/current_prices[m]\n",
    "                    #counter currency is JPY\n",
    "                    else: pip_value = 0.01/current_prices[m] \n",
    "                #none of the currency pair is the same as account currency\n",
    "                #is needed the currency rate for the base currency/account currency\n",
    "                else:\n",
    "                    ##base currency/account currency rate is retrieved from stored values in dictionary\n",
    "                    base_account_rate = prices_for_currency[first_currency+\"/\"+currency]\n",
    "                    \n",
    "                    if second_currency == 'JPY':\n",
    "                        pip_value = base_account_rate * 0.01/current_prices[m]\n",
    "                    else: pip_value = base_account_rate * 0.0001/current_prices[m] \n",
    "                        \n",
    "                pip_values.append(pip_value * 100000)\n",
    "                m += 1    \n",
    "\n",
    "      \n",
    "        return pip_values \n"
   ]
  },
  {
   "cell_type": "code",
   "execution_count": 21,
   "metadata": {},
   "outputs": [
    {
     "name": "stdout",
     "output_type": "stream",
     "text": [
      "[10.0, 9.1, 10.0, 7.65, 10.0, 10.0, 9.1, 9.1, 9.1, 13.05, 10.32]\n",
      "[10.0, 9.105892422986914, 10.0, 7.6494706566305615, 10.0, 10.0, 9.10548048965231, 9.106338233542404, 9.104997805062988, 13.04467038527619, 10.322687201932407]\n"
     ]
    }
   ],
   "source": [
    "pip_values_calculated = _calculate_pip_value_in_account_currency('USD', current_prices)\n",
    "\n",
    "print(expected_values)\n",
    "print(pip_values_calculated)"
   ]
  },
  {
   "cell_type": "code",
   "execution_count": null,
   "metadata": {},
   "outputs": [],
   "source": []
  }
 ],
 "metadata": {
  "kernelspec": {
   "display_name": "Python 3",
   "language": "python",
   "name": "python3"
  },
  "language_info": {
   "codemirror_mode": {
    "name": "ipython",
    "version": 3
   },
   "file_extension": ".py",
   "mimetype": "text/x-python",
   "name": "python",
   "nbconvert_exporter": "python",
   "pygments_lexer": "ipython3",
   "version": "3.5.2"
  }
 },
 "nbformat": 4,
 "nbformat_minor": 4
}
